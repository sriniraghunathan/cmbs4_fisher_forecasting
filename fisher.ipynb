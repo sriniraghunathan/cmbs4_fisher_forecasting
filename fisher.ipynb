{
 "cells": [
  {
   "cell_type": "markdown",
   "id": "bec030d9",
   "metadata": {},
   "source": [
    "# Fisher forecasting for CMB-S4"
   ]
  },
  {
   "cell_type": "code",
   "execution_count": 1,
   "id": "88b1c5e8",
   "metadata": {},
   "outputs": [],
   "source": [
    "%load_ext autoreload\n",
    "%autoreload 2"
   ]
  },
  {
   "cell_type": "code",
   "execution_count": 2,
   "id": "e3a41770",
   "metadata": {},
   "outputs": [],
   "source": [
    "import numpy as np, scipy as sc, sys, argparse, os\n",
    "sys.path.append('modules')\n",
    "import tools"
   ]
  },
  {
   "cell_type": "code",
   "execution_count": 3,
   "id": "896ba6b6",
   "metadata": {},
   "outputs": [],
   "source": [
    "#get the necessary arguments\n",
    "paramfile='params/params_planck_r_0.0_2015_cosmo_lensed_LSS_JM.txt'\n",
    "#which_spectra='lensed_scalar' #choices are 'lensed_scalar' and 'unlensed_scalar'\n",
    "which_spectra='unlensed_scalar' #choices are 'lensed_scalar' and 'unlensed_scalar'\n",
    "use_ilc_nl = 1\n",
    "round_results = 0\n",
    "fsky = 0.57 #fix this to clean patch for now\n",
    "#desired_param_arr = ['ns', 'neff'] #desired parameter for which we are computing the constraints. set to None if you want to analyse the full fisher matrix\n",
    "desired_param_arr = None #desired parameter for which we are computing the constraints. set to None if you want to analyse the full fisher matrix\n",
    "\n",
    "\n",
    "#only used if use_ilc_nl = 0\n",
    "rms_map_T = 2.\n",
    "fwhm_arcmins = 1.4"
   ]
  },
  {
   "cell_type": "code",
   "execution_count": 4,
   "id": "9fdd0841",
   "metadata": {},
   "outputs": [],
   "source": [
    "#folders containing inputs\n",
    "camb_folder = 'data/CMB_spectra_derivatives_for_code_comparison/'\n",
    "draft_results_folder = 'data/DRAFT_results_20200601/s4like_mask/TT-EE-TE/baseline/'\n"
   ]
  },
  {
   "cell_type": "code",
   "execution_count": 5,
   "id": "01d84cb1",
   "metadata": {},
   "outputs": [
    {
     "name": "stdout",
     "output_type": "stream",
     "text": [
      "\tget/read fiducual LCDM power spectra computed using CAMB\n"
     ]
    }
   ],
   "source": [
    "#get fiducual LCDM power spectra computed using CAMB\n",
    "print('\\tget/read fiducual LCDM power spectra computed using CAMB')\n",
    "camb_fname = '%s/cmb_spectra_%s_Srini.txt' %(camb_folder, which_spectra.replace('_scalar',''))\n",
    "if (0):\n",
    "    cl_camb = np.loadtxt(camb_fname)\n",
    "    els = cl_camb[:,0]\n",
    "    cl_dic = {}\n",
    "    cl_dic['TT'] = cl_camb[:,1]\n",
    "    cl_dic['EE'] = cl_camb[:,2]\n",
    "    cl_dic['TE'] = cl_camb[:,3]\n",
    "camb_fname = camb_fname.replace('.txt', '.npy')\n",
    "camb_dic = np.load(camb_fname, allow_pickle=1).item()\n",
    "els = camb_dic['els']\n",
    "cl_dic = camb_dic['Cl_dic']\n",
    "if (1):#not add_lensing:\n",
    "    cl_dic.pop('BB')\n",
    "    cl_dic.pop('PP')\n",
    "    cl_dic.pop('Tphi')\n",
    "    cl_dic.pop('Ephi')"
   ]
  },
  {
   "cell_type": "code",
   "execution_count": 6,
   "id": "95b7bd03",
   "metadata": {},
   "outputs": [
    {
     "name": "stdout",
     "output_type": "stream",
     "text": [
      "\tget/read derivatives\n"
     ]
    }
   ],
   "source": [
    "#read derivatives\n",
    "print('\\tget/read derivatives')\n",
    "camb_deriv_fname = '%s/cmb_spectra_derivs_%s_Srini.npy' %(camb_folder, which_spectra.replace('_scalar',''))\n",
    "if (0):\n",
    "    cl_deriv_dic_tmp = np.load(camb_deriv_fname, allow_pickle = 1).item()\n",
    "    cl_deriv_dic = {}\n",
    "    param_names = []\n",
    "    for p in sorted( cl_deriv_dic_tmp ):\n",
    "        if p == 'ell': continue\n",
    "        cl_deriv_dic[p]={}\n",
    "        cl_deriv_dic[p]['TT'] = cl_deriv_dic_tmp[p][0]\n",
    "        cl_deriv_dic[p]['EE'] = cl_deriv_dic_tmp[p][1]\n",
    "        cl_deriv_dic[p]['TE'] = cl_deriv_dic_tmp[p][2]\n",
    "        param_names.append( p )\n",
    "cl_deriv_dic = np.load(camb_deriv_fname, allow_pickle = 1).item()\n",
    "param_names = sorted( cl_deriv_dic.keys() )"
   ]
  },
  {
   "cell_type": "code",
   "execution_count": 7,
   "id": "eb784902",
   "metadata": {},
   "outputs": [
    {
     "name": "stdout",
     "output_type": "stream",
     "text": [
      "\tget experiment specs and nl\n"
     ]
    }
   ],
   "source": [
    "#get experiment specs\n",
    "print('\\tget experiment specs and nl')\n",
    "pspectra_to_use = ['TT', 'EE', 'TE']\n",
    "min_l_temp, max_l_temp = 30, 5000\n",
    "min_l_pol, max_l_pol = 30, 5000\n",
    "fix_params = ['Alens', 'mnu', 'ws', 'omk'] #but curretnly nothing to fix as we only have a 6+1(neff) LCDM model\n",
    "prior_dic = {'tau':0.007}#02}#02} #Planck tau prior\n",
    "#desired_param = 'neff' #desired parameter for which we are computing the constraints. set to None if you want to analyse the full fisher matrix\n",
    "include_gal = 0\n",
    "gal_mask = 3 #only valid if galaxy is included"
   ]
  },
  {
   "cell_type": "code",
   "execution_count": 8,
   "id": "c336f637",
   "metadata": {},
   "outputs": [
    {
     "name": "stdout",
     "output_type": "stream",
     "text": [
      "\tget nl\n"
     ]
    }
   ],
   "source": [
    "#get nl\n",
    "print('\\tget nl')\n",
    "if use_ilc_nl:\n",
    "    if not include_gal:\n",
    "        nlfile = '%s/S4_ilc_galaxy0_27-39-93-145-225-278_TT-EE-TE_lf2-mf12-hf5_AZ.npy' %(draft_results_folder)\n",
    "    else:\n",
    "        nlfile = '%s/S4_ilc_galaxy1_27-39-93-145-225-278_TT-EE-TE_lf2-mf12-hf5_galmask%s_AZ.npy' %(draft_results_folder, gal_mask)\n",
    "    nl_dic, fsky = tools.get_nldic(nlfile, els)\n",
    "else:\n",
    "    rms_map_P = rms_map_T * 1.414\n",
    "    Bl, nl_TT, nl_PP = tools.fn_get_nl(els, rms_map_T, rms_map_P = rms_map_P, fwhm = fwhm_arcmins)\n",
    "    nl_dic = {}\n",
    "    nl_dic['TT'] = nl_TT\n",
    "    nl_dic['EE'] = nl_PP\n",
    "    nl_dic['TE'] = np.copy(nl_PP)*0."
   ]
  },
  {
   "cell_type": "code",
   "execution_count": 9,
   "id": "96aa5673",
   "metadata": {},
   "outputs": [
    {
     "name": "stdout",
     "output_type": "stream",
     "text": [
      "\tget delta Cl\n"
     ]
    }
   ],
   "source": [
    "#get delta_cl\n",
    "print('\\tget delta Cl')\n",
    "delta_cl_dic = tools.fn_delta_Cl(els, cl_dic, nl_dic, fsky)\n"
   ]
  },
  {
   "cell_type": "code",
   "execution_count": 10,
   "id": "ee61fcbf",
   "metadata": {},
   "outputs": [
    {
     "name": "stdout",
     "output_type": "stream",
     "text": [
      "\tget fisher\n"
     ]
    }
   ],
   "source": [
    "#get Fisher / COV matrices\n",
    "print('\\tget fisher')\n",
    "F_mat = tools.get_fisher_mat(els, cl_deriv_dic, delta_cl_dic, param_names, pspectra_to_use = pspectra_to_use,\\\n",
    "            min_l_temp = min_l_temp, max_l_temp = max_l_temp, min_l_pol = min_l_pol, max_l_pol = max_l_pol)\n",
    "#print(F_mat)\n"
   ]
  },
  {
   "cell_type": "code",
   "execution_count": 11,
   "id": "767a5fef",
   "metadata": {},
   "outputs": [
    {
     "name": "stdout",
     "output_type": "stream",
     "text": [
      "\tfixing paramaters, if need be\n"
     ]
    }
   ],
   "source": [
    "#fix params\n",
    "print('\\tfixing paramaters, if need be')\n",
    "F_mat, param_names = tools.fn_fix_params(F_mat, param_names, fix_params)\n",
    "param_names = np.asarray(param_names)\n",
    "#print(param_names); sys.exit()\n"
   ]
  },
  {
   "cell_type": "code",
   "execution_count": 12,
   "id": "0f611813",
   "metadata": {},
   "outputs": [
    {
     "name": "stdout",
     "output_type": "stream",
     "text": [
      "\tadding prior\n"
     ]
    }
   ],
   "source": [
    "#add prior\n",
    "print('\\tadding prior')\n",
    "F_mat = tools.fn_add_prior(F_mat, param_names, prior_dic)\n"
   ]
  },
  {
   "cell_type": "code",
   "execution_count": 13,
   "id": "580c5239",
   "metadata": {},
   "outputs": [
    {
     "name": "stdout",
     "output_type": "stream",
     "text": [
      "\tget covariance matrix\n"
     ]
    }
   ],
   "source": [
    "#get cov matrix now\n",
    "print('\\tget covariance matrix')\n",
    "#Cov_mat = sc.linalg.pinv2(F_mat) #made sure that COV_mat_l * Cinv_l ~= I\n",
    "Cov_mat = np.linalg.inv(F_mat) #made sure that COV_mat_l * Cinv_l ~= I\n"
   ]
  },
  {
   "cell_type": "code",
   "execution_count": 14,
   "id": "957ef86a",
   "metadata": {},
   "outputs": [
    {
     "name": "stdout",
     "output_type": "stream",
     "text": [
      "\textract sigma(As)\n",
      "\t\\simga(As) = 3.08955e-11 using observables=['TT', 'EE', 'TE']; fsky=0.77325439453125; power spectra=unlensed_scalar\n",
      "\n",
      "\textract sigma(neff)\n",
      "\t\\simga(neff) = 0.0272404 using observables=['TT', 'EE', 'TE']; fsky=0.77325439453125; power spectra=unlensed_scalar\n",
      "\n",
      "\textract sigma(ns)\n",
      "\t\\simga(ns) = 0.00259278 using observables=['TT', 'EE', 'TE']; fsky=0.77325439453125; power spectra=unlensed_scalar\n",
      "\n",
      "\textract sigma(ombh2)\n",
      "\t\\simga(ombh2) = 3.59466e-05 using observables=['TT', 'EE', 'TE']; fsky=0.77325439453125; power spectra=unlensed_scalar\n",
      "\n",
      "\textract sigma(omch2)\n",
      "\t\\simga(omch2) = 0.000657076 using observables=['TT', 'EE', 'TE']; fsky=0.77325439453125; power spectra=unlensed_scalar\n",
      "\n",
      "\textract sigma(tau)\n",
      "\t\\simga(tau) = 0.00698175 using observables=['TT', 'EE', 'TE']; fsky=0.77325439453125; power spectra=unlensed_scalar\n",
      "\n",
      "\textract sigma(thetastar)\n",
      "\t\\simga(thetastar) = 6.38439e-07 using observables=['TT', 'EE', 'TE']; fsky=0.77325439453125; power spectra=unlensed_scalar\n",
      "\n"
     ]
    }
   ],
   "source": [
    "#extract sigma(neff)\n",
    "if desired_param_arr is None:\n",
    "    desired_param_arr = param_names\n",
    "for desired_param in desired_param_arr:\n",
    "    print('\\textract sigma(%s)' %(desired_param))\n",
    "    pind = np.where(param_names == desired_param)[0][0]\n",
    "    pcntr1, pcntr2 = pind, pind\n",
    "    cov_inds_to_extract = [(pcntr1, pcntr1), (pcntr1, pcntr2), (pcntr2, pcntr1), (pcntr2, pcntr2)]\n",
    "    cov_extract = np.asarray( [Cov_mat[ii] for ii in cov_inds_to_extract] ).reshape((2,2))\n",
    "    sigma = cov_extract[0,0]**0.5\n",
    "    if round_results:\n",
    "        sigma = round(sigma, 4)\n",
    "    opline = '\\t\\simga(%s) = %g using observables=%s; fsky=%s; power spectra=%s' %(desired_param, sigma, str(pspectra_to_use), fsky, which_spectra)\n",
    "    print('%s\\n' %(opline))\n",
    "\n",
    "    ############################################################################################################\n",
    "    if not use_ilc_nl: #record sigma in a text file for different white noise levels\n",
    "        opfolder = 'results/'\n",
    "        if round_results:\n",
    "            opfolder = '%s/rounding_0p4' %(opfolder)\n",
    "        else:\n",
    "            opfolder = '%s/no_rounding' %(opfolder)\n",
    "        if not os.path.exists(opfolder): os.system('mkdir -p %s' %(opfolder))\n",
    "        opfname = '%s/%s_fsky%.2f_fwhm%.2fam.txt' %(opfolder, desired_param, fsky, fwhm_arcmins)\n",
    "        if os.path.exists(opfname):\n",
    "            opf = open(opfname, 'a')\n",
    "        else:\n",
    "            opf = open(opfname, 'w')\n",
    "            opline = '#noise \\sigma(%s)' %(desired_param)\n",
    "            opf.writelines('%s\\n' %(opline))\n",
    "\n",
    "        opline = '%.3f %g' %(rms_map_T, sigma)\n",
    "        opf.writelines('%s\\n' %(opline))\n",
    "        opf.close()\n"
   ]
  },
  {
   "cell_type": "code",
   "execution_count": 18,
   "id": "0e2929e7",
   "metadata": {},
   "outputs": [
    {
     "name": "stdout",
     "output_type": "stream",
     "text": [
      "\tdebugging Fisher matrix for individual parameter constraints\n",
      "\t\t\\sigma(As) = 9.12364e-13 using ['TT', 'EE', 'TE']; fsky = 0.77325439453125; power spectra = unlensed_scalar\n",
      "\t\t\\sigma(neff) = 0.00329299 using ['TT', 'EE', 'TE']; fsky = 0.77325439453125; power spectra = unlensed_scalar\n",
      "\t\t\\sigma(ns) = 0.000365992 using ['TT', 'EE', 'TE']; fsky = 0.77325439453125; power spectra = unlensed_scalar\n",
      "\t\t\\sigma(ombh2) = 1.34841e-05 using ['TT', 'EE', 'TE']; fsky = 0.77325439453125; power spectra = unlensed_scalar\n",
      "\t\t\\sigma(omch2) = 0.000263622 using ['TT', 'EE', 'TE']; fsky = 0.77325439453125; power spectra = unlensed_scalar\n",
      "\t\t\\sigma(tau) = 0.000207661 using ['TT', 'EE', 'TE']; fsky = 0.77325439453125; power spectra = unlensed_scalar\n",
      "\t\t\\sigma(thetastar) = 3.76613e-07 using ['TT', 'EE', 'TE']; fsky = 0.77325439453125; power spectra = unlensed_scalar\n"
     ]
    },
    {
     "ename": "SystemExit",
     "evalue": "",
     "output_type": "error",
     "traceback": [
      "An exception has occurred, use %tb to see the full traceback.\n",
      "\u001b[0;31mSystemExit\u001b[0m\n"
     ]
    }
   ],
   "source": [
    "logline = '\\tdebugging Fisher matrix for individual parameter constraints'; print(logline)\n",
    "F_mat_for_debug = np.copy(F_mat)\n",
    "F_mat_for_debug_diag = np.diag(F_mat_for_debug)\n",
    "individual_constraints = np.sqrt(1./F_mat_for_debug_diag)\n",
    "for pcntr, curr_param in enumerate( param_names ):\n",
    "    sigma = individual_constraints[pcntr]\n",
    "    opline = '\\t\\t\\sigma(%s) = %g using %s; fsky = %s; power spectra = %s' %(curr_param, sigma, str(pspectra_to_use), fsky, which_spectra)\n",
    "    print(opline)\n",
    "sys.exit()\n"
   ]
  },
  {
   "cell_type": "code",
   "execution_count": null,
   "id": "a8afb26c",
   "metadata": {},
   "outputs": [],
   "source": []
  }
 ],
 "metadata": {
  "kernelspec": {
   "display_name": "Python 3 (ipykernel)",
   "language": "python",
   "name": "python3"
  },
  "language_info": {
   "codemirror_mode": {
    "name": "ipython",
    "version": 3
   },
   "file_extension": ".py",
   "mimetype": "text/x-python",
   "name": "python",
   "nbconvert_exporter": "python",
   "pygments_lexer": "ipython3",
   "version": "3.9.9"
  }
 },
 "nbformat": 4,
 "nbformat_minor": 5
}
